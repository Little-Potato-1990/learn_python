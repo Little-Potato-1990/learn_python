{
 "cells": [
  {
   "cell_type": "markdown",
   "metadata": {},
   "source": [
    "# 07 赋值语句"
   ]
  },
  {
   "cell_type": "markdown",
   "metadata": {},
   "source": [
    "1.【选择】以下关于Python的赋值说法中错误的是哪一个选项？（ ）\n",
    "\n",
    "A.Python不支持链式赋值  \n",
    "B.Python支持多重赋值  \n",
    "C.Python同一个变量名在不同位置可以被赋予不同的类型与数值  \n",
    "D.Python不用引入新变量就可以对调两个变量的值"
   ]
  },
  {
   "cell_type": "markdown",
   "metadata": {},
   "source": [
    "答案：A"
   ]
  },
  {
   "cell_type": "markdown",
   "metadata": {},
   "source": [
    "2.【选择】以下代码等价于：（ ）  \n",
    "`x = \"mystr\"\n",
    "y = x`\n",
    "\n",
    "A.x = y = \"mystr\"  \n",
    "B.y = x = \"mystr\"  \n",
    "C.x = \"mystr\" = y  \n",
    "D.y = \"mystr\" = x"
   ]
  },
  {
   "cell_type": "markdown",
   "metadata": {},
   "source": [
    "答案：B"
   ]
  },
  {
   "cell_type": "markdown",
   "metadata": {},
   "source": [
    "3.【填空】下面代码的运行结果是：（ ）  \n",
    "`\n",
    "x = 60.0\n",
    "x /= 5-2`"
   ]
  },
  {
   "cell_type": "markdown",
   "metadata": {},
   "source": [
    "答案：20.0"
   ]
  },
  {
   "cell_type": "markdown",
   "metadata": {},
   "source": [
    "4.【填空】请写出下列代码运行结果是：（ ）  \n",
    "`\n",
    "x1,x2,x3,x4,x5 = \"hello\"\n",
    "print(x2)`"
   ]
  },
  {
   "cell_type": "markdown",
   "metadata": {},
   "source": [
    "答案：e"
   ]
  },
  {
   "cell_type": "markdown",
   "metadata": {},
   "source": [
    "5.【选择】下列哪个语句在Python中是非法的？（ ）  \n",
    "\n",
    "A.x = y = z = 1  \n",
    "B.x = (y = z + 1)  \n",
    "C.x,y = y,x  \n",
    "D.x += y  "
   ]
  },
  {
   "cell_type": "markdown",
   "metadata": {},
   "source": [
    "答案：B"
   ]
  }
 ],
 "metadata": {
  "kernelspec": {
   "display_name": "Python 3",
   "language": "python",
   "name": "python3"
  },
  "language_info": {
   "codemirror_mode": {
    "name": "ipython",
    "version": 3
   },
   "file_extension": ".py",
   "mimetype": "text/x-python",
   "name": "python",
   "nbconvert_exporter": "python",
   "pygments_lexer": "ipython3",
   "version": "3.6.6"
  }
 },
 "nbformat": 4,
 "nbformat_minor": 2
}
