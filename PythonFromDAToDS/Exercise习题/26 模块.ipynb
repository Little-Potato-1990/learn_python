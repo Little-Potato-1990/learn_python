{
 "cells": [
  {
   "cell_type": "markdown",
   "metadata": {},
   "source": [
    "1.【选择】以下关于模块的说法错误的是：（ ）   \n",
    "\n",
    "A.模块通常为.py文件。   \n",
    "B.模块的查找顺序是:内存中已经加载的模块->内置模块->sys.path路径中包含的模块。   \n",
    "C.用户无法自定义模块。   \n",
    "D.不管执行了多少次import，整个程序中单个模块只会被导入一次。   "
   ]
  },
  {
   "cell_type": "markdown",
   "metadata": {},
   "source": [
    "答案：C。"
   ]
  },
  {
   "cell_type": "markdown",
   "metadata": {},
   "source": [
    "2.【选择】以下关于模块和包之间关系的说法错误的是：（ ）   \n",
    "\n",
    "A.包可用于将一组模块分组到一个常见的包名称下。   \n",
    "B.一个包只能对应一个模块。   \n",
    "C.每一个包目录下面都会有一个__init__.py的文件，且__init__.py本身就是一个模块。"
   ]
  },
  {
   "cell_type": "markdown",
   "metadata": {
    "collapsed": true
   },
   "source": [
    "答案：B。"
   ]
  },
  {
   "cell_type": "markdown",
   "metadata": {},
   "source": [
    "3.【多选】以下导入模块方式正确的是：（ ）   \n",
    "\n",
    "A.import 模块名   \n",
    "B.import 模块名 as 模块的别名    \n",
    "C.from 模块名 import 函数名   \n",
    "D.from 模块名 import 函数名 as 函数的别名    \n",
    "E.from 模块名 import 函数名A,函数名B  "
   ]
  },
  {
   "cell_type": "markdown",
   "metadata": {},
   "source": [
    "答案：A.B.C.D.E.。     "
   ]
  },
  {
   "cell_type": "markdown",
   "metadata": {
    "collapsed": true
   },
   "source": [
    "4.【选择】以下不属于内置模块的是：（ ）  \n",
    "\n",
    "A.sys   \n",
    "B.random   \n",
    "C.os  \n",
    "D.image"
   ]
  },
  {
   "cell_type": "markdown",
   "metadata": {},
   "source": [
    "答案：D。"
   ]
  },
  {
   "cell_type": "markdown",
   "metadata": {},
   "source": [
    "5.【编程】请编写代码分别查询内置模块清单、所有已经导入的模块清单。"
   ]
  },
  {
   "cell_type": "markdown",
   "metadata": {
    "collapsed": true
   },
   "source": [
    "答案：   \n",
    "（1）查询内置模块清单：<code>\n",
    "import sys\n",
    "sys.builtin_module_names</code>   \n",
    "（2）查询所有已经导入的模块清单：\n",
    "<code>\n",
    "import sys\n",
    "sys.modules.keys()</code>"
   ]
  }
 ],
 "metadata": {
  "anaconda-cloud": {},
  "kernelspec": {
   "display_name": "Python [default]",
   "language": "python",
   "name": "python3"
  },
  "language_info": {
   "codemirror_mode": {
    "name": "ipython",
    "version": 3
   },
   "file_extension": ".py",
   "mimetype": "text/x-python",
   "name": "python",
   "nbconvert_exporter": "python",
   "pygments_lexer": "ipython3",
   "version": "3.5.2"
  }
 },
 "nbformat": 4,
 "nbformat_minor": 1
}
