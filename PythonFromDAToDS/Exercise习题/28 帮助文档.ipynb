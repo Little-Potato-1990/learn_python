{
 "cells": [
  {
   "cell_type": "markdown",
   "metadata": {},
   "source": [
    "1.【选择】以下语法错误的是：（ ）  \n",
    "\n",
    "A.dir([])  \n",
    "B.dir(?)  \n",
    "C.dir('')  \n",
    "D.dir()  "
   ]
  },
  {
   "cell_type": "markdown",
   "metadata": {},
   "source": [
    "答案：B。  \n",
    "解析：dir([])和dir('')分别为查看列表和字符串的属性，相当于dir(list)和dir(str)。"
   ]
  },
  {
   "cell_type": "markdown",
   "metadata": {},
   "source": [
    "2.【选择】关于帮助文档，以下说法方式正确的是：（ ）  \n",
    "\n",
    "A.用操作符“？”可查看源代码，用“？？”可查看docstring。    \n",
    "B.查看sys模块的帮助文档时直接输入help(sys)即可。  \n",
    "C.```_doc_```属性的前后各有一个下划线。    \n",
    "D.内置的dir(X)函数会返回附加在X对象上的所有属性及方法的列表。"
   ]
  },
  {
   "cell_type": "markdown",
   "metadata": {},
   "source": [
    "答案：D。   \n",
    "解析：B选项：需要先将其导入，再传给dir，即代码应为：\n",
    "<code>\n",
    "import sys\n",
    "help(sys)</code>"
   ]
  },
  {
   "cell_type": "markdown",
   "metadata": {},
   "source": [
    "3.【填空】在Jupyter notebook中，通过（ ）或（ ）方法可以让系统自动提示某个对象可以用的属性和方法名。"
   ]
  },
  {
   "cell_type": "markdown",
   "metadata": {},
   "source": [
    "答案：Tab；通配符* 结合 \"?\"（问号）"
   ]
  }
 ],
 "metadata": {
  "kernelspec": {
   "display_name": "Python [default]",
   "language": "python",
   "name": "python3"
  },
  "language_info": {
   "codemirror_mode": {
    "name": "ipython",
    "version": 3
   },
   "file_extension": ".py",
   "mimetype": "text/x-python",
   "name": "python",
   "nbconvert_exporter": "python",
   "pygments_lexer": "ipython3",
   "version": "3.5.2"
  }
 },
 "nbformat": 4,
 "nbformat_minor": 1
}
