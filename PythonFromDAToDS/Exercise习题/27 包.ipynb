{
 "cells": [
  {
   "cell_type": "markdown",
   "metadata": {},
   "source": [
    "1.【填空】Python中常用的包管理器有两种，分别为（ ）和（ ）？"
   ]
  },
  {
   "cell_type": "markdown",
   "metadata": {},
   "source": [
    "答案：pip；conda。"
   ]
  },
  {
   "cell_type": "markdown",
   "metadata": {},
   "source": [
    "2.【选择】关于包，以下说法正确的是：（ ）   \n",
    "\n",
    "A.利用pip包管理器更新已安装包的代码是：pip update 包名 。  \n",
    "B.单独导入包名即可导入包中所包含的所有子模块。  \n",
    "C.下载安装、更新、查看、移除包等行为既可以在命令行中进行，也可以在Jupyter notebook中进行。  \n",
    "D.下载安装、更新、查看、移除包等行为既可以用pip工具，也可以用conda工具。"
   ]
  },
  {
   "cell_type": "markdown",
   "metadata": {},
   "source": [
    "答案：D。"
   ]
  },
  {
   "cell_type": "markdown",
   "metadata": {},
   "source": [
    "3.【选择】以下导入包的格式错误的是：（ ）  \n",
    "\n",
    "A.from file1.file2 import test  \n",
    "B.import file1.file2.test as test  \n",
    "C.import seaborn,jieba as sns,jieba  \n",
    "D.import seaborn as sns,jieba as jieba  "
   ]
  },
  {
   "cell_type": "markdown",
   "metadata": {},
   "source": [
    "答案：C。"
   ]
  },
  {
   "cell_type": "markdown",
   "metadata": {},
   "source": [
    "4.【编程】如何用代码查看某个包的帮助？"
   ]
  },
  {
   "cell_type": "markdown",
   "metadata": {},
   "source": [
    "答案：   \n",
    "<code>import module\n",
    "help(module)\n",
    "</code>\n",
    "例如:<code>\n",
    "import sys\n",
    "help(sys)\n",
    "</code>\n",
    "其余方式见下一章。"
   ]
  },
  {
   "cell_type": "markdown",
   "metadata": {},
   "source": [
    "5.【填空】数据科学中，常用（ ）包来处理数据框，用（ ）包来处理多维数组，用（ ）来进行统计可视化。"
   ]
  },
  {
   "cell_type": "markdown",
   "metadata": {},
   "source": [
    "答案：Pandans；Numpy；Matplotlib或Seaborn。"
   ]
  }
 ],
 "metadata": {
  "anaconda-cloud": {},
  "kernelspec": {
   "display_name": "Python [default]",
   "language": "python",
   "name": "python3"
  },
  "language_info": {
   "codemirror_mode": {
    "name": "ipython",
    "version": 3
   },
   "file_extension": ".py",
   "mimetype": "text/x-python",
   "name": "python",
   "nbconvert_exporter": "python",
   "pygments_lexer": "ipython3",
   "version": "3.5.2"
  }
 },
 "nbformat": 4,
 "nbformat_minor": 1
}
