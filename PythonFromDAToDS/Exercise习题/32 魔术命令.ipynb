{
 "cells": [
  {
   "cell_type": "markdown",
   "metadata": {
    "collapsed": true
   },
   "source": [
    "1.【判断】魔术命令的调用以%开始，如%run、%xmode等，故%%writefile、%%sh等不属于魔术命令。（ ）  \n",
    "\n",
    "A. √  \n",
    "B. ×"
   ]
  },
  {
   "cell_type": "markdown",
   "metadata": {
    "collapsed": true
   },
   "source": [
    "答案：B。"
   ]
  },
  {
   "cell_type": "markdown",
   "metadata": {
    "collapsed": true
   },
   "source": [
    "2.【判断】魔术命令是iPython/Jupyter特有的特殊命令，在标准的python shell中无法正常使用。（ ）  \n",
    "\n",
    "A. √  \n",
    "B. ×"
   ]
  },
  {
   "cell_type": "markdown",
   "metadata": {
    "collapsed": true
   },
   "source": [
    "答案：A。"
   ]
  },
  {
   "cell_type": "markdown",
   "metadata": {
    "collapsed": true
   },
   "source": [
    "3.【选择】通过（ ）魔术命令可查看当前可用的魔术命令的清单。  \n",
    "\n",
    "A.%dhist  \n",
    "B.%magic  \n",
    "C.%lsmagic  \n",
    "D.%load"
   ]
  },
  {
   "cell_type": "markdown",
   "metadata": {
    "collapsed": true
   },
   "source": [
    "答案：C。"
   ]
  },
  {
   "cell_type": "markdown",
   "metadata": {
    "collapsed": true
   },
   "source": [
    "4.【选择】以下说法错误的是：（ ）    \n",
    "A.%timeit与%%timeit均可统计运行时间，但%timeit用于line mode，而%%timeit用于cell mode。  \n",
    "B.使用%run的前提是.py文件已在当前工作目录下，否则会报错。  \n",
    "C.%xmode可更改错误/异常信息的显示模式，其中%xmode Verbose显示信息最为详细。  \n",
    "D.%%timeit之前不能有任何代码，但可以有注释信息。"
   ]
  },
  {
   "cell_type": "markdown",
   "metadata": {
    "collapsed": true
   },
   "source": [
    "答案：D。"
   ]
  },
  {
   "cell_type": "markdown",
   "metadata": {
    "collapsed": true
   },
   "source": [
    "5.【填空】当前会话的In[12]为：5*6，则如下代码的运行结果是：（ ）  \n",
    "%history -n -o 12"
   ]
  },
  {
   "cell_type": "markdown",
   "metadata": {
    "collapsed": true
   },
   "source": [
    "答案：  \n",
    "12: 5*6  \n",
    "30  \n",
    "解析：参数-n表示打印每个输入的编码；-o表示为每个输入打印输出。"
   ]
  },
  {
   "cell_type": "markdown",
   "metadata": {},
   "source": [
    "6.【填空】魔术命令（ ）和（ ）用于程序运行情况的逐行统计，但（ ）使用前需要导入（ ）包。"
   ]
  },
  {
   "cell_type": "markdown",
   "metadata": {},
   "source": [
    "答案：%prun；%lprun；%lprun；line_profiler。"
   ]
  },
  {
   "cell_type": "markdown",
   "metadata": {},
   "source": [
    "7.【填空】魔术命令（ ）用于统计内存使用情况，其使用前需要利用（ ）魔术命令来导入memory_profiler包。"
   ]
  },
  {
   "cell_type": "markdown",
   "metadata": {},
   "source": [
    "答案：%memit；%load_ext。"
   ]
  }
 ],
 "metadata": {
  "anaconda-cloud": {},
  "kernelspec": {
   "display_name": "Python [default]",
   "language": "python",
   "name": "python3"
  },
  "language_info": {
   "codemirror_mode": {
    "name": "ipython",
    "version": 3
   },
   "file_extension": ".py",
   "mimetype": "text/x-python",
   "name": "python",
   "nbconvert_exporter": "python",
   "pygments_lexer": "ipython3",
   "version": "3.5.2"
  }
 },
 "nbformat": 4,
 "nbformat_minor": 1
}
