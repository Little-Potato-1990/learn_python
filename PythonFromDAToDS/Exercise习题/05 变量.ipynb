{
 "cells": [
  {
   "cell_type": "markdown",
   "metadata": {},
   "source": [
    "# 05 变量"
   ]
  },
  {
   "cell_type": "markdown",
   "metadata": {},
   "source": [
    "1.【选择】以下关于Python的变量说法中错误的是哪一个选项？（ ）\n",
    "\n",
    "A.Python可以对同一变量赋予不同的类型和数值  \n",
    "B.Python中不需要显式声明该变量的类型，根据“值”确定类型  \n",
    "C.Python变量大小写不敏感  \n",
    "D.Python中的变量是引用"
   ]
  },
  {
   "cell_type": "markdown",
   "metadata": {},
   "source": [
    "答案：C"
   ]
  },
  {
   "cell_type": "markdown",
   "metadata": {},
   "source": [
    "2.【选择】下列哪个变量是符合命名规范的？（ ）\n",
    "\n",
    "A.3q  \n",
    "B._  \n",
    "C.while  \n",
    "D.ds@"
   ]
  },
  {
   "cell_type": "markdown",
   "metadata": {},
   "source": [
    "答案：B"
   ]
  },
  {
   "cell_type": "markdown",
   "metadata": {},
   "source": [
    "3.【填空】下列代码的运行结果是：（ ）    \n",
    "x = True   \n",
    "x = 20  \n",
    "x = (1,2,3)  \n",
    "print(x)"
   ]
  },
  {
   "cell_type": "markdown",
   "metadata": {},
   "source": [
    "答案：(1, 2, 3)"
   ]
  },
  {
   "cell_type": "markdown",
   "metadata": {},
   "source": [
    "4.【选择】以下哪个不是Python的关键字？（ ）\n",
    "\n",
    "A.as  \n",
    "B.None  \n",
    "C.from  \n",
    "D.dict"
   ]
  },
  {
   "cell_type": "markdown",
   "metadata": {},
   "source": [
    "答案：D"
   ]
  },
  {
   "cell_type": "markdown",
   "metadata": {},
   "source": [
    "5.【判断】下列代码的输出结果是5。( )    \n",
    "print = 1  \n",
    "i = 5  \n",
    "print(i)\n",
    "\n",
    "A.√  \n",
    "B.×"
   ]
  },
  {
   "cell_type": "markdown",
   "metadata": {},
   "source": [
    "答案：B"
   ]
  },
  {
   "cell_type": "markdown",
   "metadata": {},
   "source": [
    "6.【选择】下列哪个语句在Python中是非法的？（ ）\n",
    "\n",
    "A.i = \"a\" + 2   \n",
    "B.i = True + 2   \n",
    "C.x,y = y,x  \n",
    "D.x = y = z = 1"
   ]
  },
  {
   "cell_type": "markdown",
   "metadata": {},
   "source": [
    "答案：A"
   ]
  },
  {
   "cell_type": "markdown",
   "metadata": {},
   "source": [
    "7.【判断】删除变量i的函数是del(i)。（ ）\n",
    "\n",
    "A.√  \n",
    "B.×"
   ]
  },
  {
   "cell_type": "markdown",
   "metadata": {},
   "source": [
    "答案：B"
   ]
  }
 ],
 "metadata": {
  "kernelspec": {
   "display_name": "Python 3",
   "language": "python",
   "name": "python3"
  },
  "language_info": {
   "codemirror_mode": {
    "name": "ipython",
    "version": 3
   },
   "file_extension": ".py",
   "mimetype": "text/x-python",
   "name": "python",
   "nbconvert_exporter": "python",
   "pygments_lexer": "ipython3",
   "version": "3.6.6"
  }
 },
 "nbformat": 4,
 "nbformat_minor": 2
}
